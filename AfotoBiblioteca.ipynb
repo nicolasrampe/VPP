{
 "cells": [
  {
   "cell_type": "code",
   "execution_count": 2,
   "metadata": {},
   "outputs": [],
   "source": [
    "import pandas as pd\n",
    "from itertools import chain\n",
    "import numpy as np\n",
    "\n",
    "import holidays_co\n",
    "from datetime import date, datetime"
   ]
  },
  {
   "cell_type": "code",
   "execution_count": 3,
   "metadata": {},
   "outputs": [
    {
     "name": "stderr",
     "output_type": "stream",
     "text": [
      "WARNING: pip is being invoked by an old script wrapper. This will fail in a future version of pip.\n",
      "Please see https://github.com/pypa/pip/issues/5599 for advice on fixing the underlying issue.\n",
      "To avoid this problem you can invoke Python with '-m pip' instead of running pip directly.\n"
     ]
    },
    {
     "data": {
      "text/html": [
       "<pre style=\"white-space:pre;overflow-x:auto;line-height:normal;font-family:Menlo,'DejaVu Sans Mono',consolas,'Courier New',monospace\">Requirement already satisfied: openpyxl in c:\\users\\colac\\anaconda3\\envs\\machinelearning\\lib\\site-packages (3.1.2)\n",
       "</pre>\n"
      ],
      "text/plain": [
       "Requirement already satisfied: openpyxl in c:\\users\\colac\\anaconda3\\envs\\machinelearning\\lib\\site-packages (3.1.2)\n"
      ]
     },
     "metadata": {},
     "output_type": "display_data"
    },
    {
     "data": {
      "text/html": [
       "<pre style=\"white-space:pre;overflow-x:auto;line-height:normal;font-family:Menlo,'DejaVu Sans Mono',consolas,'Courier New',monospace\">Requirement already satisfied: et-xmlfile in c:\\users\\colac\\anaconda3\\envs\\machinelearning\\lib\\site-packages (from openpyxl) (1.1.0)\n",
       "</pre>\n"
      ],
      "text/plain": [
       "Requirement already satisfied: et-xmlfile in c:\\users\\colac\\anaconda3\\envs\\machinelearning\\lib\\site-packages (from openpyxl) (1.1.0)\n"
      ]
     },
     "metadata": {},
     "output_type": "display_data"
    },
    {
     "data": {
      "text/plain": [
       "0"
      ]
     },
     "execution_count": 3,
     "metadata": {},
     "output_type": "execute_result"
    }
   ],
   "source": [
    "import pip\n",
    "pip.main([\"install\", \"openpyxl\"])"
   ]
  },
  {
   "cell_type": "code",
   "execution_count": 4,
   "metadata": {},
   "outputs": [],
   "source": [
    "meses = [\n",
    "'ENERO',\n",
    "'FEBRERO',\n",
    "'MARZO',\n",
    "'ABRIL',\n",
    " 'MAYO',\n",
    " 'JUNIO',\n",
    " 'JULIO',\n",
    " 'AGOSTO',\n",
    " 'SEPTIEMBRE',\n",
    " 'OCTUBRE',\n",
    " 'NOVIEMBRE',\n",
    " 'DICIEMBRE']\n",
    "rangosHora = None\n",
    "year = '2015'"
   ]
  },
  {
   "attachments": {},
   "cell_type": "markdown",
   "metadata": {},
   "source": [
    "Importación de datos de excel desde 2013 - 2019"
   ]
  },
  {
   "cell_type": "code",
   "execution_count": 5,
   "metadata": {},
   "outputs": [],
   "source": [
    "def convertirAFormato24h(texto):\n",
    "    if 'am' not in texto and 'pm' not in texto:\n",
    "        return texto.replace(\" \",\"\")\n",
    "    texto = texto.replace(\"-\",\"\")\n",
    "    textoPartido = texto.split()\n",
    "    if 'am'  in textoPartido:\n",
    "        return textoPartido[0] + '-' + textoPartido[1]\n",
    "    else:\n",
    "        hDes = int(textoPartido[0])\n",
    "        hHas = int(textoPartido[1])\n",
    "        hHas = hHas + 12\n",
    "        hDes = hDes + 12 if hHas > 14 else hDes\n",
    "        \n",
    "        return '{0}-{1} '.format(hDes, hHas)"
   ]
  },
  {
   "cell_type": "code",
   "execution_count": 6,
   "metadata": {},
   "outputs": [],
   "source": [
    "def tratarHoja (hoja):   \n",
    "    global rangosHora \n",
    "    hoja = hoja.iloc[1:, 1:len(hoja.columns)-1]\n",
    "    hoja = hoja.T\n",
    "    hoja.columns = hoja.iloc[0]\n",
    "    colTotal = list(hoja.columns).index('TOTAL')\n",
    "    hoja = hoja.iloc[1:,0:colTotal]\n",
    "    rangosHora = [convertirAFormato24h(s) for s in hoja.columns[1:7]]\n",
    "    hoja.columns = ['Dia'] + rangosHora\n",
    "    return hoja"
   ]
  },
  {
   "cell_type": "code",
   "execution_count": 7,
   "metadata": {},
   "outputs": [],
   "source": [
    "def resumirHoja(hoja,mes,year):\n",
    "    global rangosHora\n",
    "    hoja['Personas'] = [tuple(x) for x in (hoja[rangosHora]).values]\n",
    "    hoja['Dia'] = hoja['Dia'].astype(int).astype(str)\n",
    "    lens = list(map(len, hoja.Personas))\n",
    "    res = pd.DataFrame({'Dia': np.repeat(hoja.Dia,lens),\n",
    "                        'Mes':np.tile([mes],len(lens)*len(rangosHora)),\n",
    "                        'Year':np.tile([year],len(lens)*len(rangosHora)),\n",
    "                        'RangoHora': np.tile(rangosHora,len(lens)),\n",
    "                        'Aforo': list(chain.from_iterable(hoja.Personas))})\n",
    "    res[['Aforo']] = res[['Aforo']].apply(pd.to_numeric)\n",
    "    res = res.assign(HoraDes=[f\"{str(year).split('-')[0]}\" for year in res['RangoHora']])\n",
    "    res = res.assign(HoraHas=[f\"{str(year).split('-')[1]}\" for year in res['RangoHora']])\n",
    "    res = res.assign(FechaDes=[pd.to_datetime(f\"{str(year)}-{str(month)}-{str(day)} {str(hour)}:00\", errors='coerce') for year, month, day, hour in zip(res['Year'], res['Mes'], res['Dia'], res['HoraDes'])])\n",
    "    res = res.assign(FechaHas=[pd.to_datetime(f\"{str(year)}-{str(month)}-{str(day)} {str(int(hour)-1)}:59\", errors='coerce') for year, month, day, hour in zip(res['Year'], res['Mes'], res['Dia'], res['HoraHas'])])\n",
    "    res = res.assign(Festivo=[holidays_co.is_holiday_date(fecha) if (not np.isnan(fecha.year)) and (fecha.year > 1970 or fecha.year < 99999) else False for fecha in res['FechaHas']])\n",
    "    return res"
   ]
  },
  {
   "cell_type": "code",
   "execution_count": 8,
   "metadata": {},
   "outputs": [],
   "source": [
    "def iterarAnio(year):    \n",
    "    xlsx = pd.ExcelFile('./Aforo Biblioteca Proyecto Maestría/Ingreso a edificio '+year+'.xlsx', engine='openpyxl')\n",
    "    hojas = [x.upper() for x in xlsx.sheet_names if x in meses]\n",
    "    pdMesesResumidos = []\n",
    "    for mes in hojas:\n",
    "        hoja = pd.read_excel(xlsx, mes)\n",
    "        hoja = tratarHoja(hoja)\n",
    "        pdMesesResumidos.append(resumirHoja(hoja,meses.index(mes)+1, year))\n",
    "    return pd.concat(pdMesesResumidos)"
   ]
  },
  {
   "cell_type": "code",
   "execution_count": 10,
   "metadata": {},
   "outputs": [
    {
     "ename": "TypeError",
     "evalue": "only size-1 arrays can be converted to Python scalars",
     "output_type": "error",
     "traceback": [
      "\u001b[1;31m---------------------------------------------------------------------------\u001b[0m",
      "\u001b[1;31mTypeError\u001b[0m                                 Traceback (most recent call last)",
      "Cell \u001b[1;32mIn[10], line 4\u001b[0m\n\u001b[0;32m      2\u001b[0m pdList \u001b[39m=\u001b[39m []\n\u001b[0;32m      3\u001b[0m \u001b[39mfor\u001b[39;00m anio \u001b[39min\u001b[39;00m anios:\n\u001b[1;32m----> 4\u001b[0m     pdList\u001b[39m.\u001b[39mappend(iterarAnio(\u001b[39mstr\u001b[39;49m(anio)))\n\u001b[0;32m      5\u001b[0m resumenCompleto \u001b[39m=\u001b[39m pd\u001b[39m.\u001b[39mconcat(pdList, ignore_index\u001b[39m=\u001b[39m\u001b[39mTrue\u001b[39;00m)\n\u001b[0;32m      6\u001b[0m \u001b[39mprint\u001b[39m(resumenCompleto)\n",
      "Cell \u001b[1;32mIn[8], line 8\u001b[0m, in \u001b[0;36miterarAnio\u001b[1;34m(year)\u001b[0m\n\u001b[0;32m      6\u001b[0m     hoja \u001b[39m=\u001b[39m pd\u001b[39m.\u001b[39mread_excel(xlsx, mes)\n\u001b[0;32m      7\u001b[0m     hoja \u001b[39m=\u001b[39m tratarHoja(hoja)\n\u001b[1;32m----> 8\u001b[0m     pdMesesResumidos\u001b[39m.\u001b[39mappend(resumirHoja(hoja,meses\u001b[39m.\u001b[39;49mindex(mes)\u001b[39m+\u001b[39;49m\u001b[39m1\u001b[39;49m, year))\n\u001b[0;32m      9\u001b[0m \u001b[39mreturn\u001b[39;00m pd\u001b[39m.\u001b[39mconcat(pdMesesResumidos)\n",
      "Cell \u001b[1;32mIn[7], line 3\u001b[0m, in \u001b[0;36mresumirHoja\u001b[1;34m(hoja, mes, year)\u001b[0m\n\u001b[0;32m      1\u001b[0m \u001b[39mdef\u001b[39;00m \u001b[39mresumirHoja\u001b[39m(hoja,mes,year):\n\u001b[0;32m      2\u001b[0m     \u001b[39mglobal\u001b[39;00m rangosHora\n\u001b[1;32m----> 3\u001b[0m     hoja[\u001b[39m'\u001b[39m\u001b[39mPersonas\u001b[39m\u001b[39m'\u001b[39m] \u001b[39m=\u001b[39m [\u001b[39mtuple\u001b[39m(\u001b[39mint\u001b[39m(x)) \u001b[39mfor\u001b[39;00m x \u001b[39min\u001b[39;00m (hoja[rangosHora])\u001b[39m.\u001b[39mvalues]\n\u001b[0;32m      4\u001b[0m     hoja[\u001b[39m'\u001b[39m\u001b[39mDia\u001b[39m\u001b[39m'\u001b[39m] \u001b[39m=\u001b[39m hoja[\u001b[39m'\u001b[39m\u001b[39mDia\u001b[39m\u001b[39m'\u001b[39m]\u001b[39m.\u001b[39mastype(\u001b[39mint\u001b[39m)\u001b[39m.\u001b[39mastype(\u001b[39mstr\u001b[39m)\n\u001b[0;32m      5\u001b[0m     lens \u001b[39m=\u001b[39m \u001b[39mlist\u001b[39m(\u001b[39mmap\u001b[39m(\u001b[39mlen\u001b[39m, hoja\u001b[39m.\u001b[39mPersonas))\n",
      "Cell \u001b[1;32mIn[7], line 3\u001b[0m, in \u001b[0;36m<listcomp>\u001b[1;34m(.0)\u001b[0m\n\u001b[0;32m      1\u001b[0m \u001b[39mdef\u001b[39;00m \u001b[39mresumirHoja\u001b[39m(hoja,mes,year):\n\u001b[0;32m      2\u001b[0m     \u001b[39mglobal\u001b[39;00m rangosHora\n\u001b[1;32m----> 3\u001b[0m     hoja[\u001b[39m'\u001b[39m\u001b[39mPersonas\u001b[39m\u001b[39m'\u001b[39m] \u001b[39m=\u001b[39m [\u001b[39mtuple\u001b[39m(\u001b[39mint\u001b[39;49m(x)) \u001b[39mfor\u001b[39;00m x \u001b[39min\u001b[39;00m (hoja[rangosHora])\u001b[39m.\u001b[39mvalues]\n\u001b[0;32m      4\u001b[0m     hoja[\u001b[39m'\u001b[39m\u001b[39mDia\u001b[39m\u001b[39m'\u001b[39m] \u001b[39m=\u001b[39m hoja[\u001b[39m'\u001b[39m\u001b[39mDia\u001b[39m\u001b[39m'\u001b[39m]\u001b[39m.\u001b[39mastype(\u001b[39mint\u001b[39m)\u001b[39m.\u001b[39mastype(\u001b[39mstr\u001b[39m)\n\u001b[0;32m      5\u001b[0m     lens \u001b[39m=\u001b[39m \u001b[39mlist\u001b[39m(\u001b[39mmap\u001b[39m(\u001b[39mlen\u001b[39m, hoja\u001b[39m.\u001b[39mPersonas))\n",
      "\u001b[1;31mTypeError\u001b[0m: only size-1 arrays can be converted to Python scalars"
     ]
    }
   ],
   "source": [
    "anios = list(range(2013,2019))\n",
    "pdList = []\n",
    "for anio in anios:\n",
    "    pdList.append(iterarAnio(str(anio)))\n",
    "resumenCompleto = pd.concat(pdList, ignore_index=True)\n",
    "print(resumenCompleto)"
   ]
  },
  {
   "cell_type": "code",
   "execution_count": null,
   "metadata": {},
   "outputs": [
    {
     "name": "stdout",
     "output_type": "stream",
     "text": [
      "<class 'pandas.core.frame.DataFrame'>\n",
      "RangeIndex: 9903 entries, 0 to 9902\n",
      "Data columns (total 10 columns):\n",
      " #   Column     Non-Null Count  Dtype         \n",
      "---  ------     --------------  -----         \n",
      " 0   Dia        9903 non-null   object        \n",
      " 1   Mes        9903 non-null   int32         \n",
      " 2   Year       9903 non-null   object        \n",
      " 3   RangoHora  9903 non-null   object        \n",
      " 4   Aforo      9555 non-null   object        \n",
      " 5   HoraDes    9903 non-null   object        \n",
      " 6   HoraHas    9903 non-null   object        \n",
      " 7   FechaDes   9897 non-null   datetime64[ns]\n",
      " 8   FechaHas   9897 non-null   datetime64[ns]\n",
      " 9   Festivo    9903 non-null   bool          \n",
      "dtypes: bool(1), datetime64[ns](2), int32(1), object(6)\n",
      "memory usage: 667.4+ KB\n"
     ]
    }
   ],
   "source": [
    "resumenCompleto.info()"
   ]
  },
  {
   "cell_type": "code",
   "execution_count": null,
   "metadata": {},
   "outputs": [
    {
     "data": {
      "text/html": [
       "<div>\n",
       "<style scoped>\n",
       "    .dataframe tbody tr th:only-of-type {\n",
       "        vertical-align: middle;\n",
       "    }\n",
       "\n",
       "    .dataframe tbody tr th {\n",
       "        vertical-align: top;\n",
       "    }\n",
       "\n",
       "    .dataframe thead th {\n",
       "        text-align: right;\n",
       "    }\n",
       "</style>\n",
       "<table border=\"1\" class=\"dataframe\">\n",
       "  <thead>\n",
       "    <tr style=\"text-align: right;\">\n",
       "      <th></th>\n",
       "      <th>count</th>\n",
       "      <th>mean</th>\n",
       "      <th>std</th>\n",
       "      <th>min</th>\n",
       "      <th>25%</th>\n",
       "      <th>50%</th>\n",
       "      <th>75%</th>\n",
       "      <th>max</th>\n",
       "    </tr>\n",
       "  </thead>\n",
       "  <tbody>\n",
       "    <tr>\n",
       "      <th>Mes</th>\n",
       "      <td>9903.0</td>\n",
       "      <td>6.762193</td>\n",
       "      <td>3.252098</td>\n",
       "      <td>1.0</td>\n",
       "      <td>4.0</td>\n",
       "      <td>7.0</td>\n",
       "      <td>10.0</td>\n",
       "      <td>12.0</td>\n",
       "    </tr>\n",
       "  </tbody>\n",
       "</table>\n",
       "</div>"
      ],
      "text/plain": [
       "      count      mean       std  min  25%  50%   75%   max\n",
       "Mes  9903.0  6.762193  3.252098  1.0  4.0  7.0  10.0  12.0"
      ]
     },
     "execution_count": 30,
     "metadata": {},
     "output_type": "execute_result"
    }
   ],
   "source": [
    "resumenCompleto.describe().T"
   ]
  },
  {
   "cell_type": "code",
   "execution_count": null,
   "metadata": {},
   "outputs": [
    {
     "data": {
      "text/plain": [
       "array([False,  True])"
      ]
     },
     "execution_count": 31,
     "metadata": {},
     "output_type": "execute_result"
    }
   ],
   "source": [
    "resumenCompleto.Festivo.unique()"
   ]
  },
  {
   "cell_type": "code",
   "execution_count": null,
   "metadata": {},
   "outputs": [
    {
     "data": {
      "text/plain": [
       "False"
      ]
     },
     "execution_count": 32,
     "metadata": {},
     "output_type": "execute_result"
    }
   ],
   "source": [
    "holidays_co.is_holiday_date(resumenCompleto.FechaDes.dt.date[0])"
   ]
  },
  {
   "cell_type": "code",
   "execution_count": null,
   "metadata": {},
   "outputs": [],
   "source": [
    "resumenCompleto.to_csv('salida.csv')"
   ]
  }
 ],
 "metadata": {
  "kernelspec": {
   "display_name": "Python 3",
   "language": "python",
   "name": "python3"
  },
  "language_info": {
   "codemirror_mode": {
    "name": "ipython",
    "version": 3
   },
   "file_extension": ".py",
   "mimetype": "text/x-python",
   "name": "python",
   "nbconvert_exporter": "python",
   "pygments_lexer": "ipython3",
   "version": "3.10.9"
  },
  "orig_nbformat": 4
 },
 "nbformat": 4,
 "nbformat_minor": 2
}
