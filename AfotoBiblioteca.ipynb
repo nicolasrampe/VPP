{
 "cells": [
  {
   "cell_type": "code",
   "execution_count": 1,
   "metadata": {},
   "outputs": [],
   "source": [
    "import pandas as pd\n",
    "from itertools import chain\n",
    "import numpy as np"
   ]
  },
  {
   "cell_type": "code",
   "execution_count": null,
   "metadata": {},
   "outputs": [],
   "source": [
    "import pip\n",
    "pip.main([\"install\", \"openpyxl\"])"
   ]
  },
  {
   "cell_type": "code",
   "execution_count": 2,
   "metadata": {},
   "outputs": [],
   "source": [
    "meses = [\n",
    "'ENERO',\n",
    "'FEBRERO',\n",
    "'MARZO',\n",
    "'ABRIL',\n",
    " 'MAYO',\n",
    " 'JUNIO',\n",
    " 'JULIO',\n",
    " 'AGOSTO',\n",
    " 'SEPTIEMBRE',\n",
    " 'OCTUBRE',\n",
    " 'NOVIEMBRE',\n",
    " 'DICIEMBRE']\n",
    "rangosHora = None\n",
    "year = '2015'"
   ]
  },
  {
   "attachments": {},
   "cell_type": "markdown",
   "metadata": {},
   "source": [
    "Importación de datos de excel desde 2013 - 2019"
   ]
  },
  {
   "cell_type": "code",
   "execution_count": 3,
   "metadata": {},
   "outputs": [],
   "source": [
    "def convertirAFormato24h(texto):\n",
    "    if 'am' not in texto and 'pm' not in texto:\n",
    "        return texto\n",
    "    texto = texto.replace(\"-\",\"\")\n",
    "    textoPartido = texto.split()\n",
    "    if 'am'  in textoPartido:\n",
    "        return textoPartido[0] + ' - ' + textoPartido[1]\n",
    "    else:\n",
    "        hDes = int(textoPartido[0])\n",
    "        hHas = int(textoPartido[1])\n",
    "        hHas = hHas + 12\n",
    "        hDes = hDes + 12 if hHas > 14 else hDes\n",
    "        return str(hDes) + ' - ' + str(hHas)"
   ]
  },
  {
   "cell_type": "code",
   "execution_count": 4,
   "metadata": {},
   "outputs": [],
   "source": [
    "def tratarHoja (hoja):   \n",
    "    global rangosHora \n",
    "    hoja = hoja.iloc[1:, 1:len(hoja.columns)-1]\n",
    "    hoja = hoja.T\n",
    "    hoja.columns = hoja.iloc[0]\n",
    "    colTotal = list(hoja.columns).index('TOTAL')\n",
    "    hoja = hoja.iloc[1:,0:colTotal]\n",
    "    rangosHora = [convertirAFormato24h(s) for s in hoja.columns[1:7]]\n",
    "    hoja.columns = ['Dia'] + rangosHora\n",
    "    return hoja"
   ]
  },
  {
   "cell_type": "code",
   "execution_count": 5,
   "metadata": {},
   "outputs": [],
   "source": [
    "def resumirHoja(hoja,mes,year):\n",
    "    global rangosHora\n",
    "    hoja['Personas'] = [tuple(x) for x in (hoja[rangosHora]).values]\n",
    "    hoja['Dia'] = hoja['Dia'].astype(int).astype(str)\n",
    "    lens = list(map(len, hoja.Personas))\n",
    "    res = pd.DataFrame({'Dia': np.repeat(hoja.Dia,lens),\n",
    "                        'Mes':np.tile([mes],len(lens)*len(rangosHora)),\n",
    "                        'Año':np.tile([year],len(lens)*len(rangosHora)),\n",
    "                        'RangoHora': np.tile(rangosHora,len(lens)),\n",
    "                        'Aforo': list(chain.from_iterable(hoja.Personas))})\n",
    "    return res"
   ]
  },
  {
   "cell_type": "code",
   "execution_count": 6,
   "metadata": {},
   "outputs": [],
   "source": [
    "def iterarAnio(year):    \n",
    "    xlsx = pd.ExcelFile('./Aforo Biblioteca Proyecto Maestría/Ingreso a edificio '+year+'.xlsx', engine='openpyxl')\n",
    "    hojas = [x.upper() for x in xlsx.sheet_names if x in meses]\n",
    "    pdMesesResumidos = []\n",
    "    for mes in hojas:\n",
    "        hoja = pd.read_excel(xlsx, mes)\n",
    "        hoja = tratarHoja(hoja)\n",
    "        pdMesesResumidos.append(resumirHoja(hoja,mes, year))\n",
    "    return pd.concat(pdMesesResumidos)"
   ]
  },
  {
   "cell_type": "code",
   "execution_count": 7,
   "metadata": {},
   "outputs": [
    {
     "name": "stdout",
     "output_type": "stream",
     "text": [
      "      Dia        Mes   Año RangoHora  Aforo\n",
      "0       1      ABRIL  2013     0 - 6   34.0\n",
      "1       1      ABRIL  2013     6 - 9  360.0\n",
      "2       1      ABRIL  2013    9 - 14  267.0\n",
      "3       1      ABRIL  2013   14 - 18  106.0\n",
      "4       1      ABRIL  2013   18 - 24    0.0\n",
      "...    ..        ...   ...       ...    ...\n",
      "10210  14  DICIEMBRE  2018     6 - 9  115.0\n",
      "10211  14  DICIEMBRE  2018    9 - 14  311.0\n",
      "10212  14  DICIEMBRE  2018   14 - 18   70.0\n",
      "10213  14  DICIEMBRE  2018   18 - 20    0.0\n",
      "10214  14  DICIEMBRE  2018   20 - 24    1.0\n",
      "\n",
      "[10215 rows x 5 columns]\n"
     ]
    }
   ],
   "source": [
    "anios = list(range(2013,2019))\n",
    "pdList = []\n",
    "for anio in anios:\n",
    "    pdList.append(iterarAnio(str(anio)))\n",
    "resumenCompleto = pd.concat(pdList, ignore_index=True)\n",
    "print(resumenCompleto)"
   ]
  }
 ],
 "metadata": {
  "kernelspec": {
   "display_name": "Python 3",
   "language": "python",
   "name": "python3"
  },
  "language_info": {
   "codemirror_mode": {
    "name": "ipython",
    "version": 3
   },
   "file_extension": ".py",
   "mimetype": "text/x-python",
   "name": "python",
   "nbconvert_exporter": "python",
   "pygments_lexer": "ipython3",
   "version": "3.10.9"
  },
  "orig_nbformat": 4
 },
 "nbformat": 4,
 "nbformat_minor": 2
}
