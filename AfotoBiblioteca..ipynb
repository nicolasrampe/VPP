{
 "cells": [
  {
   "cell_type": "code",
   "execution_count": 31,
   "metadata": {},
   "outputs": [],
   "source": [
    "import pandas as pd\n",
    "from itertools import chain\n",
    "import numpy as np"
   ]
  },
  {
   "cell_type": "code",
   "execution_count": 32,
   "metadata": {},
   "outputs": [],
   "source": [
    "meses = [\n",
    "'ENERO',\n",
    "'FEBRERO',\n",
    "'MARZO',\n",
    "'ABRIL',\n",
    " 'MAYO',\n",
    " 'JUNIO',\n",
    " 'JULIO',\n",
    " 'AGOSTO',\n",
    " 'SEPTIEMBRE',\n",
    " 'OCTUBRE',\n",
    " 'NOVIEMBRE',\n",
    " 'DICIEMBRE']\n",
    "rangosHora = None\n",
    "year = '2015'"
   ]
  },
  {
   "attachments": {},
   "cell_type": "markdown",
   "metadata": {},
   "source": [
    "Importación de datos de excel desde 2013 - 2019"
   ]
  },
  {
   "cell_type": "code",
   "execution_count": 33,
   "metadata": {},
   "outputs": [],
   "source": [
    "def tratarHoja (hoja):   \n",
    "    global rangosHora \n",
    "    hoja = hoja.iloc[1:, 1:len(hoja.columns)-1]\n",
    "    hoja = hoja.T\n",
    "    hoja.columns = hoja.iloc[0]\n",
    "    colTotal = list(hoja.columns).index('TOTAL')\n",
    "    hoja = hoja.iloc[1:,0:colTotal]\n",
    "    rangosHora = [s.replace(\" \", \"\").replace(\"-\", \"a\") for s in hoja.columns[1:7]]\n",
    "    hoja.columns = ['Dia'] + rangosHora\n",
    "    return hoja"
   ]
  },
  {
   "cell_type": "code",
   "execution_count": 34,
   "metadata": {},
   "outputs": [],
   "source": [
    "def resumirHoja(hoja,mes,year):\n",
    "    global rangosHora\n",
    "    hoja['Personas'] = [tuple(x) for x in (hoja[rangosHora]).values]\n",
    "    hoja['Dia'] = hoja['Dia'].astype(int).astype(str)\n",
    "    lens = list(map(len, hoja.Personas))\n",
    "    res = pd.DataFrame({'Dia': np.repeat(hoja.Dia,lens),\n",
    "                        'Mes':np.tile([mes],len(lens)*len(rangosHora)),\n",
    "                        'Año':np.tile([year],len(lens)*len(rangosHora)),\n",
    "                        'RangoHora': np.tile(rangosHora,len(lens)),\n",
    "                        'Aforo': list(chain.from_iterable(hoja.Personas))})\n",
    "    return res"
   ]
  },
  {
   "cell_type": "code",
   "execution_count": 41,
   "metadata": {},
   "outputs": [],
   "source": [
    "def iterarAnio(year):    \n",
    "    xlsx = pd.ExcelFile('../Aforo Biblioteca Proyecto Maestría/Ingreso a edificio '+year+'.xlsx', engine='openpyxl')\n",
    "    hojas = [x.upper() for x in xlsx.sheet_names if x in meses]\n",
    "    pdMesesResumidos = []\n",
    "    for mes in hojas:\n",
    "        hoja = pd.read_excel(xlsx, mes)\n",
    "        hoja = tratarHoja(hoja)\n",
    "        pdMesesResumidos.append(resumirHoja(hoja,mes, year))\n",
    "    return pd.concat(pdMesesResumidos)"
   ]
  },
  {
   "cell_type": "code",
   "execution_count": 43,
   "metadata": {},
   "outputs": [
    {
     "name": "stdout",
     "output_type": "stream",
     "text": [
      "      Dia        Mes   Año RangoHora  Aforo\n",
      "0       1      ABRIL  2013       0a6   34.0\n",
      "1       1      ABRIL  2013       6a9  360.0\n",
      "2       1      ABRIL  2013      9a14  267.0\n",
      "3       1      ABRIL  2013     14a18  106.0\n",
      "4       1      ABRIL  2013     18a24    0.0\n",
      "...    ..        ...   ...       ...    ...\n",
      "11818  14  DICIEMBRE  2019     6a9am    NaN\n",
      "11819  14  DICIEMBRE  2019     9a2pm    NaN\n",
      "11820  14  DICIEMBRE  2019     2a6pm    NaN\n",
      "11821  14  DICIEMBRE  2019     6a8pm    NaN\n",
      "11822  14  DICIEMBRE  2019    8a12pm    NaN\n",
      "\n",
      "[11823 rows x 5 columns]\n"
     ]
    }
   ],
   "source": [
    "anios = list(range(2013,2020))\n",
    "pdList = []\n",
    "for anio in anios:\n",
    "    pdList.append(iterarAnio(str(anio)))\n",
    "resumenCompleto = pd.concat(pdList, ignore_index=True)\n",
    "print(resumenCompleto)"
   ]
  }
 ],
 "metadata": {
  "kernelspec": {
   "display_name": "Python 3",
   "language": "python",
   "name": "python3"
  },
  "language_info": {
   "codemirror_mode": {
    "name": "ipython",
    "version": 3
   },
   "file_extension": ".py",
   "mimetype": "text/x-python",
   "name": "python",
   "nbconvert_exporter": "python",
   "pygments_lexer": "ipython3",
   "version": "3.10.9"
  },
  "orig_nbformat": 4
 },
 "nbformat": 4,
 "nbformat_minor": 2
}
